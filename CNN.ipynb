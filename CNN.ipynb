{
 "cells": [
  {
   "cell_type": "code",
   "execution_count": 1,
   "id": "cf24f573-6056-401d-84a4-404958f382e2",
   "metadata": {},
   "outputs": [],
   "source": [
    "import tensorflow as tf\n",
    "from tensorflow.keras import datasets, models,layers\n",
    "import matplotlib.pyplot as plt\n",
    "import numpy as np"
   ]
  },
  {
   "cell_type": "code",
   "execution_count": 2,
   "id": "b6b96b0b-f4d2-4c3d-b2a2-5d753ae8e0db",
   "metadata": {},
   "outputs": [
    {
     "data": {
      "text/plain": [
       "(50000, 32, 32, 3)"
      ]
     },
     "execution_count": 2,
     "metadata": {},
     "output_type": "execute_result"
    }
   ],
   "source": [
    "(X_train, y_train), (X_test, y_test) = datasets.cifar10.load_data()\n",
    "X_train.shape"
   ]
  },
  {
   "cell_type": "code",
   "execution_count": 3,
   "id": "74d80e3e-98d7-492b-bb3f-7f04eb70645b",
   "metadata": {},
   "outputs": [
    {
     "data": {
      "text/plain": [
       "(10000, 32, 32, 3)"
      ]
     },
     "execution_count": 3,
     "metadata": {},
     "output_type": "execute_result"
    }
   ],
   "source": [
    "X_test.shape"
   ]
  },
  {
   "cell_type": "code",
   "execution_count": 4,
   "id": "35f8c404-5f7c-4f3b-abc5-86a6ff18e591",
   "metadata": {},
   "outputs": [
    {
     "data": {
      "text/plain": [
       "(50000, 1)"
      ]
     },
     "execution_count": 4,
     "metadata": {},
     "output_type": "execute_result"
    }
   ],
   "source": [
    "y_train.shape"
   ]
  },
  {
   "cell_type": "code",
   "execution_count": 5,
   "id": "5e1e644b-346a-44c8-b680-554016076540",
   "metadata": {},
   "outputs": [
    {
     "data": {
      "text/plain": [
       "array([[6],\n",
       "       [9],\n",
       "       [9],\n",
       "       [4],\n",
       "       [1]], dtype=uint8)"
      ]
     },
     "execution_count": 5,
     "metadata": {},
     "output_type": "execute_result"
    }
   ],
   "source": [
    "y_train[:5]"
   ]
  },
  {
   "cell_type": "code",
   "execution_count": 6,
   "id": "e6d1b102-414b-4f0e-b042-003fcfd83f19",
   "metadata": {},
   "outputs": [
    {
     "data": {
      "text/plain": [
       "array([6, 9, 9, 4, 1], dtype=uint8)"
      ]
     },
     "execution_count": 6,
     "metadata": {},
     "output_type": "execute_result"
    }
   ],
   "source": [
    "y_train = y_train.reshape(-1,)\n",
    "y_train[:5]"
   ]
  },
  {
   "cell_type": "code",
   "execution_count": 7,
   "id": "cd235d78-6c9b-4018-9e70-ae6637ae2182",
   "metadata": {},
   "outputs": [],
   "source": [
    "y_test = y_test.reshape(-1,)"
   ]
  },
  {
   "cell_type": "code",
   "execution_count": 8,
   "id": "745dad69-8e24-4dc2-a75f-3af0c46d831f",
   "metadata": {},
   "outputs": [],
   "source": [
    "classes = [\"airplane\",\"automobile\",\"bird\",\"cat\",\"deer\",\"dog\",\"frog\",\"horse\",\"ship\",\"truck\"]"
   ]
  },
  {
   "cell_type": "code",
   "execution_count": 9,
   "id": "6cd46baa-60dc-4406-af5a-0fb26b763d64",
   "metadata": {},
   "outputs": [],
   "source": [
    "def plot_sample(X, y, index):\n",
    "    plt.figure(figsize = (15,2))\n",
    "    plt.imshow(X[index])\n",
    "    plt.xlabel(classes[y[index]])"
   ]
  },
  {
   "cell_type": "code",
   "execution_count": 10,
   "id": "df211459-43d4-496b-8ca5-ad0d74b1fb77",
   "metadata": {},
   "outputs": [
    {
     "data": {
      "image/png": "[encoded data removed]",
      "text/plain": [
       "<Figure size 1500x200 with 1 Axes>"
      ]
     },
     "metadata": {},
     "output_type": "display_data"
    }
   ],
   "source": [
    "plot_sample(X_train, y_train, 0)"
   ]
  },
  {
   "cell_type": "code",
   "execution_count": 11,
   "id": "4944519a-ecc8-4cc6-8e70-d2642ffd325f",
   "metadata": {},
   "outputs": [
    {
     "data": {
      "image/png": "[encoded data removed]",
      "text/plain": [
       "<Figure size 1500x200 with 1 Axes>"
      ]
     },
     "metadata": {},
     "output_type": "display_data"
    }
   ],
   "source": [
    "plot_sample(X_train, y_train, 1)"
   ]
  },
  {
   "cell_type": "code",
   "execution_count": 12,
   "id": "1f3af08e-05dd-4a2c-8975-85413c9a9156",
   "metadata": {},
   "outputs": [],
   "source": [
    "X_train = X_train / 255.0\n",
    "X_test = X_test / 255.0"
   ]
  },
  {
   "cell_type": "code",
   "execution_count": 13,
   "id": "2f3b0fdb-b75e-4d90-90c2-e0dc20d21723",
   "metadata": {},
   "outputs": [
    {
     "name": "stderr",
     "output_type": "stream",
     "text": [
      "C:\\Users\\KIIT\\anaconda3\\lib\\site-packages\\keras\\src\\layers\\reshaping\\flatten.py:37: UserWarning: Do not pass an `input_shape`/`input_dim` argument to a layer. When using Sequential models, prefer using an `Input(shape)` object as the first layer in the model instead.\n",
      "  super().__init__(**kwargs)\n"
     ]
    },
    {
     "name": "stdout",
     "output_type": "stream",
     "text": [
      "Epoch 1/5\n",
      "\u001b[1m1563/1563\u001b[0m \u001b[32m━━━━━━━━━━━━━━━━━━━━\u001b[0m\u001b[37m\u001b[0m \u001b[1m63s\u001b[0m 40ms/step - accuracy: 0.3069 - loss: 1.9303\n",
      "Epoch 2/5\n",
      "\u001b[1m1563/1563\u001b[0m \u001b[32m━━━━━━━━━━━━━━━━━━━━\u001b[0m\u001b[37m\u001b[0m \u001b[1m67s\u001b[0m 43ms/step - accuracy: 0.4154 - loss: 1.6510\n",
      "Epoch 3/5\n",
      "\u001b[1m1563/1563\u001b[0m \u001b[32m━━━━━━━━━━━━━━━━━━━━\u001b[0m\u001b[37m\u001b[0m \u001b[1m66s\u001b[0m 42ms/step - accuracy: 0.4544 - loss: 1.5529\n",
      "Epoch 4/5\n",
      "\u001b[1m1563/1563\u001b[0m \u001b[32m━━━━━━━━━━━━━━━━━━━━\u001b[0m\u001b[37m\u001b[0m \u001b[1m78s\u001b[0m 50ms/step - accuracy: 0.4731 - loss: 1.4858\n",
      "Epoch 5/5\n",
      "\u001b[1m1563/1563\u001b[0m \u001b[32m━━━━━━━━━━━━━━━━━━━━\u001b[0m\u001b[37m\u001b[0m \u001b[1m77s\u001b[0m 49ms/step - accuracy: 0.4962 - loss: 1.4398\n"
     ]
    },
    {
     "data": {
      "text/plain": [
       "<keras.src.callbacks.history.History at 0x1d838ba1e50>"
      ]
     },
     "execution_count": 13,
     "metadata": {},
     "output_type": "execute_result"
    }
   ],
   "source": [
    "ann = models.Sequential([\n",
    "        layers.Flatten(input_shape=(32,32,3)),\n",
    "        layers.Dense(3000, activation='relu'),\n",
    "        layers.Dense(1000, activation='relu'),\n",
    "        layers.Dense(10, activation='softmax')    \n",
    "    ])\n",
    "\n",
    "ann.compile(optimizer='SGD',\n",
    "              loss='sparse_categorical_crossentropy',\n",
    "              metrics=['accuracy'])\n",
    "\n",
    "ann.fit(X_train, y_train, epochs=5)"
   ]
  },
  {
   "cell_type": "code",
   "execution_count": 14,
   "id": "11c2e4ba-dd07-4c30-a084-16ed8c956ae9",
   "metadata": {},
   "outputs": [
    {
     "name": "stdout",
     "output_type": "stream",
     "text": [
      "\u001b[1m313/313\u001b[0m \u001b[32m━━━━━━━━━━━━━━━━━━━━\u001b[0m\u001b[37m\u001b[0m \u001b[1m3s\u001b[0m 8ms/step\n",
      "Classification Report: \n",
      "               precision    recall  f1-score   support\n",
      "\n",
      "           0       0.62      0.51      0.56      1000\n",
      "           1       0.67      0.49      0.56      1000\n",
      "           2       0.39      0.41      0.40      1000\n",
      "           3       0.39      0.25      0.31      1000\n",
      "           4       0.53      0.26      0.35      1000\n",
      "           5       0.44      0.32      0.37      1000\n",
      "           6       0.53      0.54      0.53      1000\n",
      "           7       0.38      0.73      0.50      1000\n",
      "           8       0.62      0.61      0.62      1000\n",
      "           9       0.45      0.70      0.54      1000\n",
      "\n",
      "    accuracy                           0.48     10000\n",
      "   macro avg       0.50      0.48      0.47     10000\n",
      "weighted avg       0.50      0.48      0.47     10000\n",
      "\n"
     ]
    }
   ],
   "source": [
    "from sklearn.metrics import confusion_matrix , classification_report\n",
    "import numpy as np\n",
    "y_pred = ann.predict(X_test)\n",
    "y_pred_classes = [np.argmax(element) for element in y_pred]\n",
    "\n",
    "print(\"Classification Report: \\n\", classification_report(y_test, y_pred_classes))"
   ]
  },
  {
   "cell_type": "code",
   "execution_count": 17,
   "id": "f566de1c-1ad1-427f-8d2f-75a14ca9c958",
   "metadata": {},
   "outputs": [],
   "source": [
    "cnn = models.Sequential([\n",
    "    layers.Conv2D(filters=32,kernel_size=(3,3),activation='relu',input_shape=(32,32,3)),\n",
    "    layers.MaxPooling2D((2,2)),\n",
    "    \n",
    "    layers.Conv2D(filters=32,kernel_size=(3,3),activation='relu'),\n",
    "    layers.MaxPooling2D((2,2)),\n",
    "    \n",
    "    \n",
    "    layers.Flatten(),\n",
    "    layers.Dense(64,activation='relu'),\n",
    "    layers.Dense(64,activation='softmax')\n",
    "])"
   ]
  },
  {
   "cell_type": "code",
   "execution_count": 18,
   "id": "ec914073-4812-4715-a556-327af79dcfb0",
   "metadata": {},
   "outputs": [],
   "source": [
    "cnn.compile(optimizer='adam',loss='sparse_categorical_crossentropy',metrics=['accuracy'])"
   ]
  },
  {
   "cell_type": "code",
   "execution_count": 19,
   "id": "26a80010-e5d0-4c3b-8497-6f0eacab1359",
   "metadata": {},
   "outputs": [
    {
     "name": "stdout",
     "output_type": "stream",
     "text": [
      "Epoch 1/10\n",
      "\u001b[1m1563/1563\u001b[0m \u001b[32m━━━━━━━━━━━━━━━━━━━━\u001b[0m\u001b[37m\u001b[0m \u001b[1m11s\u001b[0m 7ms/step - accuracy: 0.3184 - loss: 1.9136\n",
      "Epoch 2/10\n",
      "\u001b[1m1563/1563\u001b[0m \u001b[32m━━━━━━━━━━━━━━━━━━━━\u001b[0m\u001b[37m\u001b[0m \u001b[1m19s\u001b[0m 12ms/step - accuracy: 0.5537 - loss: 1.2673\n",
      "Epoch 3/10\n",
      "\u001b[1m1563/1563\u001b[0m \u001b[32m━━━━━━━━━━━━━━━━━━━━\u001b[0m\u001b[37m\u001b[0m \u001b[1m22s\u001b[0m 14ms/step - accuracy: 0.6124 - loss: 1.1057\n",
      "Epoch 4/10\n",
      "\u001b[1m1563/1563\u001b[0m \u001b[32m━━━━━━━━━━━━━━━━━━━━\u001b[0m\u001b[37m\u001b[0m \u001b[1m22s\u001b[0m 14ms/step - accuracy: 0.6461 - loss: 1.0128\n",
      "Epoch 5/10\n",
      "\u001b[1m1563/1563\u001b[0m \u001b[32m━━━━━━━━━━━━━━━━━━━━\u001b[0m\u001b[37m\u001b[0m \u001b[1m21s\u001b[0m 13ms/step - accuracy: 0.6727 - loss: 0.9399\n",
      "Epoch 6/10\n",
      "\u001b[1m1563/1563\u001b[0m \u001b[32m━━━━━━━━━━━━━━━━━━━━\u001b[0m\u001b[37m\u001b[0m \u001b[1m23s\u001b[0m 15ms/step - accuracy: 0.6892 - loss: 0.8920\n",
      "Epoch 7/10\n",
      "\u001b[1m1563/1563\u001b[0m \u001b[32m━━━━━━━━━━━━━━━━━━━━\u001b[0m\u001b[37m\u001b[0m \u001b[1m20s\u001b[0m 13ms/step - accuracy: 0.7111 - loss: 0.8389\n",
      "Epoch 8/10\n",
      "\u001b[1m1563/1563\u001b[0m \u001b[32m━━━━━━━━━━━━━━━━━━━━\u001b[0m\u001b[37m\u001b[0m \u001b[1m20s\u001b[0m 13ms/step - accuracy: 0.7262 - loss: 0.7890\n",
      "Epoch 9/10\n",
      "\u001b[1m1563/1563\u001b[0m \u001b[32m━━━━━━━━━━━━━━━━━━━━\u001b[0m\u001b[37m\u001b[0m \u001b[1m22s\u001b[0m 14ms/step - accuracy: 0.7356 - loss: 0.7604\n",
      "Epoch 10/10\n",
      "\u001b[1m1563/1563\u001b[0m \u001b[32m━━━━━━━━━━━━━━━━━━━━\u001b[0m\u001b[37m\u001b[0m \u001b[1m23s\u001b[0m 15ms/step - accuracy: 0.7482 - loss: 0.7229\n"
     ]
    },
    {
     "data": {
      "text/plain": [
       "<keras.src.callbacks.history.History at 0x1d83ae5e6d0>"
      ]
     },
     "execution_count": 19,
     "metadata": {},
     "output_type": "execute_result"
    }
   ],
   "source": [
    "cnn.fit(X_train,y_train,epochs=10)"
   ]
  },
  {
   "cell_type": "code",
   "execution_count": 20,
   "id": "4b34ea62-38f0-4fdd-88eb-cc96095648fb",
   "metadata": {},
   "outputs": [
    {
     "name": "stdout",
     "output_type": "stream",
     "text": [
      "\u001b[1m313/313\u001b[0m \u001b[32m━━━━━━━━━━━━━━━━━━━━\u001b[0m\u001b[37m\u001b[0m \u001b[1m1s\u001b[0m 3ms/step - accuracy: 0.6878 - loss: 0.9282\n"
     ]
    },
    {
     "data": {
      "text/plain": [
       "[0.9335276484489441, 0.6895999908447266]"
      ]
     },
     "execution_count": 20,
     "metadata": {},
     "output_type": "execute_result"
    }
   ],
   "source": [
    "cnn.evaluate(X_test,y_test)"
   ]
  },
  {
   "cell_type": "code",
   "execution_count": 21,
   "id": "f070c5c4-b06d-46bd-ac95-627db5ba7cd4",
   "metadata": {},
   "outputs": [
    {
     "name": "stdout",
     "output_type": "stream",
     "text": [
      "\u001b[1m313/313\u001b[0m \u001b[32m━━━━━━━━━━━━━━━━━━━━\u001b[0m\u001b[37m\u001b[0m \u001b[1m1s\u001b[0m 3ms/step\n"
     ]
    },
    {
     "data": {
      "text/plain": [
       "array([[8.48133117e-03, 5.34749357e-04, 5.35326719e-04, 8.71210396e-01,\n",
       "        4.00494039e-03, 3.65223959e-02, 3.36648449e-02, 1.18252507e-03,\n",
       "        4.27641422e-02, 1.09938858e-03, 4.13273062e-12, 1.80192634e-12,\n",
       "        7.18298164e-12, 3.80092062e-13, 7.85781683e-12, 1.76416423e-12,\n",
       "        1.58897045e-11, 3.04054958e-12, 5.73763996e-12, 4.33265229e-11,\n",
       "        2.20849923e-12, 2.20460217e-12, 2.41630032e-11, 1.48961069e-11,\n",
       "        1.75625538e-11, 6.29779215e-12, 1.96427889e-13, 2.34285117e-12,\n",
       "        1.22361088e-11, 1.11904749e-10, 5.56516465e-12, 9.16501684e-12,\n",
       "        3.91119342e-12, 9.52923677e-12, 1.78523307e-11, 1.27249964e-11,\n",
       "        1.26344490e-11, 7.28477782e-12, 5.69068794e-12, 9.78189751e-12,\n",
       "        7.24548338e-11, 1.15746666e-11, 4.94925064e-12, 3.15478004e-12,\n",
       "        1.03420779e-10, 6.87609908e-12, 4.75859499e-12, 1.30581553e-11,\n",
       "        4.34606032e-11, 3.82238382e-12, 4.57833587e-13, 4.52510295e-12,\n",
       "        4.78571956e-12, 1.22019426e-11, 9.68288297e-12, 2.30863099e-13,\n",
       "        3.36161862e-11, 3.10139436e-12, 1.65788078e-11, 1.07278776e-10,\n",
       "        1.14900201e-12, 6.04189745e-12, 5.84616661e-11, 3.08312230e-12],\n",
       "       [2.35546799e-03, 2.80288849e-02, 2.68031317e-06, 1.53176714e-07,\n",
       "        1.13976810e-07, 1.90312779e-08, 1.77757912e-07, 3.16396354e-09,\n",
       "        9.68872309e-01, 7.40188058e-04, 1.85392748e-17, 1.24434500e-17,\n",
       "        2.30052626e-17, 2.22802058e-17, 1.06126346e-17, 2.53883650e-17,\n",
       "        1.61827762e-16, 2.69945409e-18, 1.12670495e-17, 9.88516884e-16,\n",
       "        4.22658886e-17, 1.31401518e-16, 1.76493840e-17, 3.48289443e-18,\n",
       "        6.50822635e-16, 2.54051270e-17, 8.43557382e-18, 8.40605258e-18,\n",
       "        9.53396569e-16, 6.66937530e-17, 4.81290540e-17, 3.19372085e-17,\n",
       "        3.09895606e-18, 5.81695162e-18, 4.82308733e-17, 4.26691027e-17,\n",
       "        8.98534453e-18, 3.15704479e-16, 1.08634828e-16, 1.99654517e-17,\n",
       "        3.56561696e-15, 7.45607535e-18, 1.00296898e-17, 6.70470584e-17,\n",
       "        1.13369505e-15, 5.39492986e-17, 2.08725224e-16, 3.28823405e-16,\n",
       "        7.30383871e-17, 1.69434965e-16, 2.76674114e-17, 8.19993240e-18,\n",
       "        1.65818942e-17, 1.28337032e-16, 5.25526140e-17, 6.64481862e-17,\n",
       "        5.15743108e-17, 1.12689412e-17, 4.26630842e-17, 6.04775648e-16,\n",
       "        1.75975512e-17, 3.13855055e-17, 1.08779908e-17, 1.56014615e-16],\n",
       "       [3.09826061e-02, 1.04562394e-01, 1.14275115e-02, 1.71502621e-03,\n",
       "        4.91235522e-04, 1.76201967e-04, 1.32431369e-03, 1.30740547e-04,\n",
       "        8.43830705e-01, 5.35888737e-03, 2.28955011e-09, 2.33487252e-09,\n",
       "        1.45152856e-09, 1.23414234e-09, 8.60066240e-10, 3.43832629e-09,\n",
       "        7.08362613e-09, 9.12117604e-10, 2.05082129e-09, 1.44016470e-08,\n",
       "        5.54117863e-09, 8.83433238e-09, 1.55835045e-09, 1.07747544e-09,\n",
       "        1.11491687e-08, 3.38558825e-09, 8.76131612e-10, 1.92838789e-09,\n",
       "        2.31570478e-08, 5.14110221e-09, 3.88112964e-09, 2.53188026e-09,\n",
       "        1.15124499e-09, 2.21902741e-09, 2.64095679e-09, 1.67720926e-09,\n",
       "        1.11040444e-09, 1.54356901e-08, 5.41073231e-09, 2.49083065e-09,\n",
       "        1.07175786e-07, 1.82173965e-09, 9.49252232e-10, 5.94450000e-09,\n",
       "        1.93420906e-08, 6.19059914e-09, 8.47787884e-09, 1.25408963e-08,\n",
       "        2.86572566e-09, 5.35296119e-09, 2.74450573e-09, 1.09384846e-09,\n",
       "        1.58330449e-09, 6.08991657e-09, 4.02634859e-09, 9.38779099e-09,\n",
       "        3.49933349e-09, 1.39669365e-09, 1.91766292e-09, 1.08081650e-08,\n",
       "        2.96697511e-09, 3.20864646e-09, 8.43009607e-10, 9.16374798e-09],\n",
       "       [7.17929363e-01, 8.89936811e-04, 7.81252328e-03, 4.13580070e-04,\n",
       "        5.23700751e-03, 7.29345311e-06, 6.61757193e-04, 4.12587542e-05,\n",
       "        2.67002493e-01, 4.83618169e-06, 1.21023247e-10, 1.73777229e-10,\n",
       "        3.62621565e-11, 3.38462383e-11, 1.53070015e-10, 1.85972973e-10,\n",
       "        5.78971662e-11, 2.05868152e-11, 8.24674218e-11, 1.66188577e-10,\n",
       "        8.12027001e-10, 5.76012182e-10, 5.04028590e-11, 1.69655887e-10,\n",
       "        4.16305967e-09, 3.52424132e-11, 3.35596655e-11, 6.12348158e-11,\n",
       "        1.86478791e-10, 5.45081813e-10, 5.19370325e-10, 1.21530286e-10,\n",
       "        4.27187903e-11, 3.89917230e-11, 1.80520252e-10, 7.20444537e-10,\n",
       "        2.00757362e-11, 3.74998477e-10, 6.61851129e-11, 4.80054781e-11,\n",
       "        2.11170459e-09, 7.69652120e-11, 3.56081588e-11, 7.79043913e-11,\n",
       "        1.58487912e-09, 4.19010271e-10, 1.17160670e-10, 3.12307485e-10,\n",
       "        1.38874551e-10, 4.32786335e-10, 3.95213098e-11, 2.37808162e-10,\n",
       "        1.91190314e-10, 2.83897461e-10, 1.12259389e-10, 1.52845084e-10,\n",
       "        9.69114233e-11, 8.17671555e-11, 6.02822375e-11, 1.46926959e-09,\n",
       "        1.04220703e-11, 2.24241556e-10, 1.25458421e-10, 3.34150790e-10],\n",
       "       [1.74011021e-07, 2.96772414e-05, 2.95382198e-02, 3.07438467e-02,\n",
       "        1.46317929e-01, 9.38220124e-04, 7.92429328e-01, 3.69558023e-07,\n",
       "        1.99670330e-06, 1.63554290e-07, 2.28810135e-17, 1.18614598e-17,\n",
       "        1.16044784e-16, 1.72297089e-17, 1.65445751e-17, 1.10150514e-17,\n",
       "        5.14303351e-18, 9.88706222e-17, 4.27406539e-18, 5.10883414e-18,\n",
       "        9.80144175e-17, 1.44981369e-17, 2.80295941e-17, 5.97657316e-17,\n",
       "        4.74918552e-18, 6.53696519e-18, 8.36199115e-18, 2.17237183e-17,\n",
       "        7.97389537e-18, 1.00316527e-17, 3.87658608e-18, 1.04594755e-18,\n",
       "        4.59664862e-17, 5.05047233e-17, 6.67959015e-18, 1.08384835e-18,\n",
       "        4.05773516e-17, 1.15455239e-17, 2.33801442e-17, 3.34905148e-17,\n",
       "        6.89044056e-18, 1.48063245e-17, 4.10390672e-17, 6.53477109e-18,\n",
       "        4.23574376e-18, 3.64729120e-18, 3.37332327e-17, 2.20465504e-17,\n",
       "        2.50676423e-17, 3.34954774e-18, 5.13871893e-18, 2.76533965e-18,\n",
       "        1.87816007e-17, 1.46359373e-18, 3.38136247e-17, 6.01969731e-19,\n",
       "        6.75513118e-18, 1.08532184e-17, 2.02027466e-17, 2.92606684e-18,\n",
       "        7.98790318e-17, 1.22758086e-17, 5.20586160e-18, 1.49937190e-17]],\n",
       "      dtype=float32)"
      ]
     },
     "execution_count": 21,
     "metadata": {},
     "output_type": "execute_result"
    }
   ],
   "source": [
    "y_pred = cnn.predict(X_test)\n",
    "y_pred[:5]"
   ]
  },
  {
   "cell_type": "code",
   "execution_count": 22,
   "id": "b1aaa7b7-64de-4cb3-bda4-41058d6300a2",
   "metadata": {},
   "outputs": [
    {
     "data": {
      "text/plain": [
       "[3, 8, 8, 0, 6]"
      ]
     },
     "execution_count": 22,
     "metadata": {},
     "output_type": "execute_result"
    }
   ],
   "source": [
    "y_classes = [np.argmax(element) for element in y_pred]\n",
    "y_classes[:5]"
   ]
  },
  {
   "cell_type": "code",
   "execution_count": 23,
   "id": "db7384ec-a81d-4e5f-abb2-4e3b2ae6b81e",
   "metadata": {},
   "outputs": [
    {
     "data": {
      "text/plain": [
       "array([3, 8, 8, 0, 6], dtype=uint8)"
      ]
     },
     "execution_count": 23,
     "metadata": {},
     "output_type": "execute_result"
    }
   ],
   "source": [
    "y_test[:5]"
   ]
  },
  {
   "cell_type": "code",
   "execution_count": 28,
   "id": "91ace6d2-5981-45ce-9a24-4e5587dabd7c",
   "metadata": {},
   "outputs": [
    {
     "data": {
      "image/png": "[encoded data removed]",
      "text/plain": [
       "<Figure size 1500x200 with 1 Axes>"
      ]
     },
     "metadata": {},
     "output_type": "display_data"
    }
   ],
   "source": [
    "plot_sample(X_test, y_test,6)"
   ]
  },
  {
   "cell_type": "code",
   "execution_count": 29,
   "id": "8057dfba-0bbf-4567-b485-2fc5b8b4d143",
   "metadata": {},
   "outputs": [
    {
     "data": {
      "text/plain": [
       "'automobile'"
      ]
     },
     "execution_count": 29,
     "metadata": {},
     "output_type": "execute_result"
    }
   ],
   "source": [
    "classes[y_classes[6]]"
   ]
  },
  {
   "cell_type": "code",
   "execution_count": 31,
   "id": "a877570b-b205-4317-a3d0-f7926a1a4a3e",
   "metadata": {},
   "outputs": [
    {
     "name": "stdout",
     "output_type": "stream",
     "text": [
      "              precision    recall  f1-score   support\n",
      "\n",
      "           0       0.68      0.79      0.73      1000\n",
      "           1       0.79      0.83      0.81      1000\n",
      "           2       0.55      0.64      0.59      1000\n",
      "           3       0.55      0.41      0.47      1000\n",
      "           4       0.63      0.63      0.63      1000\n",
      "           5       0.60      0.59      0.59      1000\n",
      "           6       0.67      0.84      0.75      1000\n",
      "           7       0.80      0.69      0.74      1000\n",
      "           8       0.84      0.77      0.81      1000\n",
      "           9       0.82      0.70      0.76      1000\n",
      "\n",
      "    accuracy                           0.69     10000\n",
      "   macro avg       0.69      0.69      0.69     10000\n",
      "weighted avg       0.69      0.69      0.69     10000\n",
      "\n"
     ]
    }
   ],
   "source": [
    "print(classification_report(y_test,y_classes))"
   ]
  },
  {
   "cell_type": "code",
   "execution_count": 33,
   "id": "2ac7b3d0-848f-4211-b1a4-e5bb65416861",
   "metadata": {},
   "outputs": [
    {
     "data": {
      "text/plain": [
       "Text(95.72222222222221, 0.5, 'Truth')"
      ]
     },
     "execution_count": 33,
     "metadata": {},
     "output_type": "execute_result"
    },
    {
     "data": {
      "image/png": "[encoded data removed]",
      "text/plain": [
       "<Figure size 1000x700 with 2 Axes>"
      ]
     },
     "metadata": {},
     "output_type": "display_data"
    }
   ],
   "source": [
    "import seaborn as sns\n",
    "cm = cm = tf.math.confusion_matrix(labels=y_test,predictions=y_classes)\n",
    "plt.figure(figsize=(10,7))\n",
    "sns.heatmap(cm,annot=True,fmt='d')\n",
    "plt.xlabel(\"Predicted\")\n",
    "plt.ylabel(\"Truth\")"
   ]
  }
 ],
 "metadata": {
  "kernelspec": {
   "display_name": "Python 3 (ipykernel)",
   "language": "python",
   "name": "python3"
  },
  "language_info": {
   "codemirror_mode": {
    "name": "ipython",
    "version": 3
   },
   "file_extension": ".py",
   "mimetype": "text/x-python",
   "name": "python",
   "nbconvert_exporter": "python",
   "pygments_lexer": "ipython3",
   "version": "3.9.13"
  }
 },
 "nbformat": 4,
 "nbformat_minor": 5
}
